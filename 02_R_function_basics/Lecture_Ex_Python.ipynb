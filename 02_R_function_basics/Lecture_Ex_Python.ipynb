{
 "cells": [
  {
   "cell_type": "markdown",
   "id": "c0f1b867",
   "metadata": {},
   "source": [
    "# Fun with functions and pandas!"
   ]
  },
  {
   "cell_type": "markdown",
   "id": "08a04de9",
   "metadata": {},
   "source": [
    "## Overview of functions\n",
    "\n",
    "Python is an object-oriented language. Thus, functions are used to create objects or modify an existing object. \n",
    "\n",
    "In general, data science and R practices easily complement Python; in other words, function-oriented programming implements functions *onto* objects in Python, thus making it complementary.\n",
    "\n",
    "So, we assign them to variables, store to lists, pass them as aurguments to other functions, create them inside functions and even produce a function as a result of a funcion\n",
    "\n",
    "Make sure to keep in mind that:\n",
    "\n",
    "- Functions need to be \"pure\" meaning that if you call it again with the same inputs you get the same results. sys.time() not a \"pure\" function\n",
    "\n",
    "- The execution of the function shouldn't change global variables, have no side effects. \n",
    "\n",
    "For reference, these are the types of functions you'll see:\n",
    "![Function Types](fp.png)"
   ]
  },
  {
   "cell_type": "markdown",
   "id": "2f9339ef",
   "metadata": {},
   "source": [
    "## Let's build a function!\n",
    "Below, we construct a functional."
   ]
  },
  {
   "cell_type": "code",
   "execution_count": 2,
   "id": "33b0fc23",
   "metadata": {},
   "outputs": [],
   "source": [
    "def my_mean(x):\n",
    "    Sum_val = sum(x)\n",
    "    N = length(x)\n",
    "    return(Suml/N)  # return is optional but helps with clarity!"
   ]
  },
  {
   "cell_type": "markdown",
   "id": "0c0e04a3",
   "metadata": {},
   "source": [
    "Create a little list and pass it to the function and see if it works. Also call the Sum and N variables...does this work?"
   ]
  },
  {
   "cell_type": "code",
   "execution_count": null,
   "id": "d95246b7",
   "metadata": {},
   "outputs": [],
   "source": []
  },
  {
   "cell_type": "markdown",
   "id": "19629c9e",
   "metadata": {},
   "source": [
    "Now, let's construct a \"function factory\"."
   ]
  },
  {
   "cell_type": "code",
   "execution_count": 27,
   "id": "00042ef0",
   "metadata": {},
   "outputs": [],
   "source": [
    "def power1(exp):\n",
    "    def action(x):\n",
    "        return x**exp\n",
    "    return action"
   ]
  },
  {
   "cell_type": "code",
   "execution_count": 28,
   "id": "3848974a",
   "metadata": {},
   "outputs": [],
   "source": [
    "square = power1(2)\n",
    "cube = power1(3)"
   ]
  },
  {
   "cell_type": "code",
   "execution_count": 31,
   "id": "edcf8af1",
   "metadata": {},
   "outputs": [
    {
     "name": "stdout",
     "output_type": "stream",
     "text": [
      "9 27\n"
     ]
    }
   ],
   "source": [
    "print(square(3), cube(3))"
   ]
  },
  {
   "cell_type": "markdown",
   "id": "c961e84b",
   "metadata": {},
   "source": [
    "## Quick exercise\n",
    "Create a function that computes the range of a variable and then, for no good reason, adds 100 and divides by 10. Write out the steps you would need first in Pseudocode, then develop the function. "
   ]
  },
  {
   "cell_type": "markdown",
   "id": "56cd1583",
   "metadata": {},
   "source": [
    "Pseudocode:\n",
    "\n",
    "(enter here)\n"
   ]
  },
  {
   "cell_type": "code",
   "execution_count": null,
   "id": "59c9eef7",
   "metadata": {},
   "outputs": [],
   "source": [
    "# develop function here"
   ]
  },
  {
   "cell_type": "markdown",
   "id": "d000cf9b",
   "metadata": {},
   "source": [
    "## `pandas` functions\n",
    "\n",
    "1. df.loc[] -- Pick observations by their values\n",
    "2. df.sort_values() -- Reorder the rows\n",
    "3. df.loc[:, x] -- Pick variables by their column names and/or conditions (x)\n",
    "4. df.assign() -- Create new variables with functions of existing variables\n",
    "5. df.describe() -- Collapse many values down to a single summary"
   ]
  },
  {
   "cell_type": "markdown",
   "id": "351eb6e9",
   "metadata": {},
   "source": [
    "### `.loc[]`\n",
    "\n",
    "You can select columns by name or position.\n",
    "\n",
    "One row or column: .loc['colname']\n",
    "\n",
    "Multiple rows or columns: .loc[['colname1', 'colname2', 'colname3']]\n",
    "\n",
    "One column, one row: .loc['row', 'column']\n",
    "\n",
    "All rows, one column: .loc[:, 'column']\n",
    "\n",
    "\n",
    "You can also select columns based on some criteria, by using .loc[df['column'] (condition) value]\n",
    "\n",
    "For more, check out the documentation: https://pandas.pydata.org/docs/reference/api/pandas.DataFrame.loc.html"
   ]
  },
  {
   "cell_type": "markdown",
   "id": "daa8e081",
   "metadata": {},
   "source": [
    "#### Example\n",
    "Load the `weather.csv`. This contains daily temperature data in 2010 for some location."
   ]
  },
  {
   "cell_type": "code",
   "execution_count": 37,
   "id": "b3520bbc",
   "metadata": {},
   "outputs": [
    {
     "data": {
      "text/html": [
       "<div>\n",
       "<style scoped>\n",
       "    .dataframe tbody tr th:only-of-type {\n",
       "        vertical-align: middle;\n",
       "    }\n",
       "\n",
       "    .dataframe tbody tr th {\n",
       "        vertical-align: top;\n",
       "    }\n",
       "\n",
       "    .dataframe thead th {\n",
       "        text-align: right;\n",
       "    }\n",
       "</style>\n",
       "<table border=\"1\" class=\"dataframe\">\n",
       "  <thead>\n",
       "    <tr style=\"text-align: right;\">\n",
       "      <th></th>\n",
       "      <th>id</th>\n",
       "      <th>year</th>\n",
       "      <th>month</th>\n",
       "      <th>element</th>\n",
       "      <th>d1</th>\n",
       "      <th>d2</th>\n",
       "      <th>d3</th>\n",
       "      <th>d4</th>\n",
       "      <th>d5</th>\n",
       "      <th>d6</th>\n",
       "      <th>...</th>\n",
       "      <th>d22</th>\n",
       "      <th>d23</th>\n",
       "      <th>d24</th>\n",
       "      <th>d25</th>\n",
       "      <th>d26</th>\n",
       "      <th>d27</th>\n",
       "      <th>d28</th>\n",
       "      <th>d29</th>\n",
       "      <th>d30</th>\n",
       "      <th>d31</th>\n",
       "    </tr>\n",
       "  </thead>\n",
       "  <tbody>\n",
       "    <tr>\n",
       "      <th>0</th>\n",
       "      <td>MX17004</td>\n",
       "      <td>2010</td>\n",
       "      <td>1</td>\n",
       "      <td>tmax</td>\n",
       "      <td>NaN</td>\n",
       "      <td>NaN</td>\n",
       "      <td>NaN</td>\n",
       "      <td>NaN</td>\n",
       "      <td>NaN</td>\n",
       "      <td>NaN</td>\n",
       "      <td>...</td>\n",
       "      <td>NaN</td>\n",
       "      <td>NaN</td>\n",
       "      <td>NaN</td>\n",
       "      <td>NaN</td>\n",
       "      <td>NaN</td>\n",
       "      <td>NaN</td>\n",
       "      <td>NaN</td>\n",
       "      <td>NaN</td>\n",
       "      <td>27.8</td>\n",
       "      <td>NaN</td>\n",
       "    </tr>\n",
       "    <tr>\n",
       "      <th>1</th>\n",
       "      <td>MX17004</td>\n",
       "      <td>2010</td>\n",
       "      <td>1</td>\n",
       "      <td>tmin</td>\n",
       "      <td>NaN</td>\n",
       "      <td>NaN</td>\n",
       "      <td>NaN</td>\n",
       "      <td>NaN</td>\n",
       "      <td>NaN</td>\n",
       "      <td>NaN</td>\n",
       "      <td>...</td>\n",
       "      <td>NaN</td>\n",
       "      <td>NaN</td>\n",
       "      <td>NaN</td>\n",
       "      <td>NaN</td>\n",
       "      <td>NaN</td>\n",
       "      <td>NaN</td>\n",
       "      <td>NaN</td>\n",
       "      <td>NaN</td>\n",
       "      <td>14.5</td>\n",
       "      <td>NaN</td>\n",
       "    </tr>\n",
       "  </tbody>\n",
       "</table>\n",
       "<p>2 rows × 35 columns</p>\n",
       "</div>"
      ],
      "text/plain": [
       "        id  year  month element  d1  d2  d3  d4  d5  d6  ...  d22  d23  d24  \\\n",
       "0  MX17004  2010      1    tmax NaN NaN NaN NaN NaN NaN  ...  NaN  NaN  NaN   \n",
       "1  MX17004  2010      1    tmin NaN NaN NaN NaN NaN NaN  ...  NaN  NaN  NaN   \n",
       "\n",
       "   d25  d26  d27  d28  d29   d30  d31  \n",
       "0  NaN  NaN  NaN  NaN  NaN  27.8  NaN  \n",
       "1  NaN  NaN  NaN  NaN  NaN  14.5  NaN  \n",
       "\n",
       "[2 rows x 35 columns]"
      ]
     },
     "execution_count": 37,
     "metadata": {},
     "output_type": "execute_result"
    }
   ],
   "source": [
    "import pandas as pd\n",
    "weather = pd.read_csv('~/Desktop/DS-3001/data/weather.csv')\n",
    "\n",
    "weather.head(2)"
   ]
  },
  {
   "cell_type": "code",
   "execution_count": 44,
   "id": "c7700c05",
   "metadata": {},
   "outputs": [
    {
     "data": {
      "text/html": [
       "<div>\n",
       "<style scoped>\n",
       "    .dataframe tbody tr th:only-of-type {\n",
       "        vertical-align: middle;\n",
       "    }\n",
       "\n",
       "    .dataframe tbody tr th {\n",
       "        vertical-align: top;\n",
       "    }\n",
       "\n",
       "    .dataframe thead th {\n",
       "        text-align: right;\n",
       "    }\n",
       "</style>\n",
       "<table border=\"1\" class=\"dataframe\">\n",
       "  <thead>\n",
       "    <tr style=\"text-align: right;\">\n",
       "      <th></th>\n",
       "      <th>d1</th>\n",
       "      <th>d2</th>\n",
       "      <th>d3</th>\n",
       "      <th>d4</th>\n",
       "      <th>d5</th>\n",
       "      <th>d6</th>\n",
       "      <th>d7</th>\n",
       "      <th>d8</th>\n",
       "      <th>d9</th>\n",
       "      <th>d10</th>\n",
       "      <th>...</th>\n",
       "      <th>d22</th>\n",
       "      <th>d23</th>\n",
       "      <th>d24</th>\n",
       "      <th>d25</th>\n",
       "      <th>d26</th>\n",
       "      <th>d27</th>\n",
       "      <th>d28</th>\n",
       "      <th>d29</th>\n",
       "      <th>d30</th>\n",
       "      <th>d31</th>\n",
       "    </tr>\n",
       "  </thead>\n",
       "  <tbody>\n",
       "    <tr>\n",
       "      <th>0</th>\n",
       "      <td>NaN</td>\n",
       "      <td>NaN</td>\n",
       "      <td>NaN</td>\n",
       "      <td>NaN</td>\n",
       "      <td>NaN</td>\n",
       "      <td>NaN</td>\n",
       "      <td>NaN</td>\n",
       "      <td>NaN</td>\n",
       "      <td>NaN</td>\n",
       "      <td>NaN</td>\n",
       "      <td>...</td>\n",
       "      <td>NaN</td>\n",
       "      <td>NaN</td>\n",
       "      <td>NaN</td>\n",
       "      <td>NaN</td>\n",
       "      <td>NaN</td>\n",
       "      <td>NaN</td>\n",
       "      <td>NaN</td>\n",
       "      <td>NaN</td>\n",
       "      <td>27.8</td>\n",
       "      <td>NaN</td>\n",
       "    </tr>\n",
       "    <tr>\n",
       "      <th>1</th>\n",
       "      <td>NaN</td>\n",
       "      <td>NaN</td>\n",
       "      <td>NaN</td>\n",
       "      <td>NaN</td>\n",
       "      <td>NaN</td>\n",
       "      <td>NaN</td>\n",
       "      <td>NaN</td>\n",
       "      <td>NaN</td>\n",
       "      <td>NaN</td>\n",
       "      <td>NaN</td>\n",
       "      <td>...</td>\n",
       "      <td>NaN</td>\n",
       "      <td>NaN</td>\n",
       "      <td>NaN</td>\n",
       "      <td>NaN</td>\n",
       "      <td>NaN</td>\n",
       "      <td>NaN</td>\n",
       "      <td>NaN</td>\n",
       "      <td>NaN</td>\n",
       "      <td>14.5</td>\n",
       "      <td>NaN</td>\n",
       "    </tr>\n",
       "    <tr>\n",
       "      <th>2</th>\n",
       "      <td>NaN</td>\n",
       "      <td>27.3</td>\n",
       "      <td>24.1</td>\n",
       "      <td>NaN</td>\n",
       "      <td>NaN</td>\n",
       "      <td>NaN</td>\n",
       "      <td>NaN</td>\n",
       "      <td>NaN</td>\n",
       "      <td>NaN</td>\n",
       "      <td>NaN</td>\n",
       "      <td>...</td>\n",
       "      <td>NaN</td>\n",
       "      <td>29.9</td>\n",
       "      <td>NaN</td>\n",
       "      <td>NaN</td>\n",
       "      <td>NaN</td>\n",
       "      <td>NaN</td>\n",
       "      <td>NaN</td>\n",
       "      <td>NaN</td>\n",
       "      <td>NaN</td>\n",
       "      <td>NaN</td>\n",
       "    </tr>\n",
       "    <tr>\n",
       "      <th>3</th>\n",
       "      <td>NaN</td>\n",
       "      <td>14.4</td>\n",
       "      <td>14.4</td>\n",
       "      <td>NaN</td>\n",
       "      <td>NaN</td>\n",
       "      <td>NaN</td>\n",
       "      <td>NaN</td>\n",
       "      <td>NaN</td>\n",
       "      <td>NaN</td>\n",
       "      <td>NaN</td>\n",
       "      <td>...</td>\n",
       "      <td>NaN</td>\n",
       "      <td>10.7</td>\n",
       "      <td>NaN</td>\n",
       "      <td>NaN</td>\n",
       "      <td>NaN</td>\n",
       "      <td>NaN</td>\n",
       "      <td>NaN</td>\n",
       "      <td>NaN</td>\n",
       "      <td>NaN</td>\n",
       "      <td>NaN</td>\n",
       "    </tr>\n",
       "    <tr>\n",
       "      <th>4</th>\n",
       "      <td>NaN</td>\n",
       "      <td>NaN</td>\n",
       "      <td>NaN</td>\n",
       "      <td>NaN</td>\n",
       "      <td>32.1</td>\n",
       "      <td>NaN</td>\n",
       "      <td>NaN</td>\n",
       "      <td>NaN</td>\n",
       "      <td>NaN</td>\n",
       "      <td>34.5</td>\n",
       "      <td>...</td>\n",
       "      <td>NaN</td>\n",
       "      <td>NaN</td>\n",
       "      <td>NaN</td>\n",
       "      <td>NaN</td>\n",
       "      <td>NaN</td>\n",
       "      <td>NaN</td>\n",
       "      <td>NaN</td>\n",
       "      <td>NaN</td>\n",
       "      <td>NaN</td>\n",
       "      <td>NaN</td>\n",
       "    </tr>\n",
       "  </tbody>\n",
       "</table>\n",
       "<p>5 rows × 31 columns</p>\n",
       "</div>"
      ],
      "text/plain": [
       "   d1    d2    d3  d4    d5  d6  d7  d8  d9   d10  ...  d22   d23  d24  d25  \\\n",
       "0 NaN   NaN   NaN NaN   NaN NaN NaN NaN NaN   NaN  ...  NaN   NaN  NaN  NaN   \n",
       "1 NaN   NaN   NaN NaN   NaN NaN NaN NaN NaN   NaN  ...  NaN   NaN  NaN  NaN   \n",
       "2 NaN  27.3  24.1 NaN   NaN NaN NaN NaN NaN   NaN  ...  NaN  29.9  NaN  NaN   \n",
       "3 NaN  14.4  14.4 NaN   NaN NaN NaN NaN NaN   NaN  ...  NaN  10.7  NaN  NaN   \n",
       "4 NaN   NaN   NaN NaN  32.1 NaN NaN NaN NaN  34.5  ...  NaN   NaN  NaN  NaN   \n",
       "\n",
       "   d26  d27  d28  d29   d30  d31  \n",
       "0  NaN  NaN  NaN  NaN  27.8  NaN  \n",
       "1  NaN  NaN  NaN  NaN  14.5  NaN  \n",
       "2  NaN  NaN  NaN  NaN   NaN  NaN  \n",
       "3  NaN  NaN  NaN  NaN   NaN  NaN  \n",
       "4  NaN  NaN  NaN  NaN   NaN  NaN  \n",
       "\n",
       "[5 rows x 31 columns]"
      ]
     },
     "execution_count": 44,
     "metadata": {},
     "output_type": "execute_result"
    }
   ],
   "source": [
    "# get list of applicable columns; all that start with 'd'\n",
    "days = [col for col in weather.columns if col.startswith('d')]\n",
    "selected = weather[days]\n",
    "selected.head(5)"
   ]
  },
  {
   "cell_type": "markdown",
   "id": "6aa90f51",
   "metadata": {},
   "source": [
    "The main contrast here with the R code has to do with that process. In Python, `startswith` is a string function. In R, it's associated with the `select` function. As a result, we had to have the intermediary step of collecting the exact columns we need."
   ]
  },
  {
   "cell_type": "markdown",
   "id": "5b90f526",
   "metadata": {},
   "source": [
    "### .assign()"
   ]
  },
  {
   "cell_type": "code",
   "execution_count": 45,
   "id": "a17791af",
   "metadata": {},
   "outputs": [],
   "source": [
    "# talk to Brian about what dataset could be a replacement for mpg"
   ]
  },
  {
   "cell_type": "markdown",
   "id": "e1afcf0b",
   "metadata": {},
   "source": [
    "### .drop()\n",
    "\n",
    ".drop() removes certain rows based on some criteria"
   ]
  },
  {
   "cell_type": "code",
   "execution_count": 46,
   "id": "ca10975f",
   "metadata": {},
   "outputs": [],
   "source": [
    "# find another dataset; also ask Brian if we want to include this in the actual assignment file in the intro"
   ]
  },
  {
   "cell_type": "markdown",
   "id": "1bc7a43c",
   "metadata": {},
   "source": [
    "## Basic data types in `pandas`\n",
    "![Data Types](pandas_datatypes.png)"
   ]
  }
 ],
 "metadata": {
  "kernelspec": {
   "display_name": "Python 3",
   "language": "python",
   "name": "python3"
  },
  "language_info": {
   "codemirror_mode": {
    "name": "ipython",
    "version": 3
   },
   "file_extension": ".py",
   "mimetype": "text/x-python",
   "name": "python",
   "nbconvert_exporter": "python",
   "pygments_lexer": "ipython3",
   "version": "3.8.8"
  }
 },
 "nbformat": 4,
 "nbformat_minor": 5
}
