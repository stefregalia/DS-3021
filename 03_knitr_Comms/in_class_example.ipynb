{
 "cells": [
  {
   "cell_type": "code",
   "execution_count": 23,
   "metadata": {},
   "outputs": [
    {
     "ename": "SyntaxError",
     "evalue": "invalid syntax (1469599356.py, line 1)",
     "output_type": "error",
     "traceback": [
      "\u001b[0;36m  Input \u001b[0;32mIn [23]\u001b[0;36m\u001b[0m\n\u001b[0;31m    output:\u001b[0m\n\u001b[0m           ^\u001b[0m\n\u001b[0;31mSyntaxError\u001b[0m\u001b[0;31m:\u001b[0m invalid syntax\n"
     ]
    }
   ],
   "source": [
    "output:\n",
    "  html_document:\n",
    "    toc: TRUE\n",
    "    theme: journal\n",
    "    toc_float: TRUE\n",
    "editor_options: \n",
    "  chunk_output_type: console"
   ]
  },
  {
   "cell_type": "markdown",
   "metadata": {},
   "source": [
    "# Big Data Starter Kit \n",
    "Jeannette Jiang: Peer Mentor for the Stars  \n",
    "1/30/20"
   ]
  },
  {
   "cell_type": "markdown",
   "metadata": {},
   "source": [
    "\n",
    "<img src=\"bd.png\" alt=\"big data image\" width=\"300\" height=\"300\">"
   ]
  },
  {
   "cell_type": "markdown",
   "metadata": {},
   "source": [
    "Date that [article](https://www.smartdatacollective.com/5-excellent-big-data-tools-for-fostering-a-digital-workplace/) was published: **January 29, 2020**"
   ]
  },
  {
   "cell_type": "markdown",
   "metadata": {},
   "source": [
    "### Summary of Article\n",
    "The Big Data article emphasizes big data tools that could *improve* workspace resources in any company. "
   ]
  },
  {
   "cell_type": "code",
   "execution_count": 17,
   "metadata": {},
   "outputs": [
    {
     "ename": "AttributeError",
     "evalue": "'list' object has no attribute 'style'",
     "output_type": "error",
     "traceback": [
      "\u001b[0;31m---------------------------------------------------------------------------\u001b[0m",
      "\u001b[0;31mAttributeError\u001b[0m                            Traceback (most recent call last)",
      "\u001b[1;32m/Users/bpugs/DS 3001/DS-3001/03_knitr_Comms/in_class_example.ipynb Cell 5'\u001b[0m in \u001b[0;36m<cell line: 2>\u001b[0;34m()\u001b[0m\n\u001b[1;32m      <a href='vscode-notebook-cell:/Users/bpugs/DS%203001/DS-3001/03_knitr_Comms/in_class_example.ipynb#ch0000006?line=0'>1</a>\u001b[0m tools_to_improve \u001b[39m=\u001b[39m [\u001b[39m\"\u001b[39m\u001b[39mVirtual Personal Assistants\u001b[39m\u001b[39m\"\u001b[39m, \u001b[39m\"\u001b[39m\u001b[39mWorkload Automation Software\u001b[39m\u001b[39m\"\u001b[39m, \u001b[39m\"\u001b[39m\u001b[39mEnterprise Social Networks\u001b[39m\u001b[39m\"\u001b[39m, \u001b[39m\"\u001b[39m\u001b[39mCloud Computing Technologies\u001b[39m\u001b[39m\"\u001b[39m, \u001b[39m\"\u001b[39m\u001b[39mModern Corporate Intranets \u001b[39m\u001b[39m\"\u001b[39m]\n\u001b[0;32m----> <a href='vscode-notebook-cell:/Users/bpugs/DS%203001/DS-3001/03_knitr_Comms/in_class_example.ipynb#ch0000006?line=1'>2</a>\u001b[0m tools_to_improve\u001b[39m.\u001b[39;49mstyle\n",
      "\u001b[0;31mAttributeError\u001b[0m: 'list' object has no attribute 'style'"
     ]
    }
   ],
   "source": [
    "\n",
    "tools_to_improve = [\"Virtual Personal Assistants\", \"Workload Automation Software\", \"Enterprise Social Networks\", \"Cloud Computing Technologies\", \"Modern Corporate Intranets \"]\n",
    "tools_to_improve.style\n",
    "\n",
    "#Use kable documentation and get rid of the x\n"
   ]
  },
  {
   "cell_type": "markdown",
   "metadata": {},
   "source": [
    "[Beautiful Tables in R](https://rfortherestofus.com/2019/11/how-to-make-beautiful-tables-in-r/)"
   ]
  },
  {
   "cell_type": "markdown",
   "metadata": {},
   "source": [
    "In the world of data, big data is the topic that is on everyone's mind. Thus, it's no surprise that big data is finding its way into the simple, mundane tasks we find ourselves doing. For instance, creating an efficient schedule can be time-consuming. However, with the virtual personal assistant and workload automation software tools, one could optimize and complete tasks in record time. The article also details an enterprise social networking tool similar to **Slack** that allows for employees to utilize the powerful nature of direct messaging, which would push out the need for work emails and maximize time at the office. Ultimately, big data is everywhere and it's time we embrace it."
   ]
  },
  {
   "cell_type": "markdown",
   "metadata": {},
   "source": [
    "### Basic Article Stats"
   ]
  },
  {
   "cell_type": "code",
   "execution_count": null,
   "metadata": {},
   "outputs": [],
   "source": [
    "```{r, message=FALSE, echo=FALSE}\n",
    "#change to echo TRUE...what happens?\n",
    "stat <- data.frame(\"Article Views\" = 2351, \"Article Shares\" = 71, \"Article Likes on FB\" = 576)\n",
    "paged_table(stat)\n",
    "```"
   ]
  },
  {
   "cell_type": "markdown",
   "metadata": {},
   "source": [
    "### Author Information\n",
    "![](sdc.png)"
   ]
  },
  {
   "cell_type": "markdown",
   "metadata": {},
   "source": [
    "Sean Mallon is the author who is a freelance writer specializing in big data. His interests include big data, analytics and predictive analysis. He writes on SmartDataCollective where multiple articles relating to topics relating to data can be found below."
   ]
  },
  {
   "cell_type": "code",
   "execution_count": null,
   "metadata": {},
   "outputs": [],
   "source": [
    "```{r, message= FALSE, echo=FALSE}\n",
    "article <- c('https://www.smartdatacollective.com/')\n",
    "article\n",
    "```"
   ]
  },
  {
   "cell_type": "markdown",
   "metadata": {},
   "source": [
    "[Smart Data Collective](https://www.smartdatacollective.com/harnessing-big-data-to-write-fantastic-research-paper/)"
   ]
  },
  {
   "cell_type": "markdown",
   "metadata": {},
   "source": [
    "### What Do I Think?\n",
    "I think the article gives good advice for businesses to utilize big data tools in manageable ways. Some older company's might be scared of the technological era that we are in, but with simple tools such as a virtual personal assistant, companys can slowly begin to integrate big data into their workspaces. Sooner rather than later, they will begin to realize the benefits of a company social media platform or the cloud. "
   ]
  },
  {
   "cell_type": "markdown",
   "metadata": {},
   "source": [
    "### Related Links{.tabset}"
   ]
  },
  {
   "cell_type": "code",
   "execution_count": null,
   "metadata": {},
   "outputs": [],
   "source": [
    "\n",
    "```{r Randomchunk, echo=FALSE}\n",
    "string <- c(\"Find related links to Big Data\")\n",
    "string\n",
    "```\n"
   ]
  },
  {
   "cell_type": "markdown",
   "metadata": {},
   "source": [
    "#### Sean Mallon's Other Articles\n",
    "\n",
    "1. [3 Ways Big Data is Bringing SEO Out of the Stone Age](https://www.smartdatacollective.com/3-ways-big-data-is-bringing-seo-out-of-stone-age/)\n",
    "2. [Harnessing Big Data to Write A Fantastic Research Paper](https://www.smartdatacollective.com/harnessing-big-data-to-write-fantastic-research-paper/)\n",
    "3. [5 Incredible Ways Big Data Has Made VPNs Powerful Privacy Tools](https://www.smartdatacollective.com/5-incredible-ways-big-data-has-made-vpns-powerful-privacy-tools/)\n",
    "\n",
    "#### Social Media \n",
    "* Find the SmartDataCollective's [Twitter](https://twitter.com/smartdataco)\n",
    "* Find the SmartDataCollective's [Facebook](https://www.facebook.com/SmartDataCo/)\n"
   ]
  },
  {
   "cell_type": "code",
   "execution_count": null,
   "metadata": {},
   "outputs": [],
   "source": [
    "```{r, out.width='50%', fig.align='center', fig.cap=\"Social Media Apps\"}\n",
    "knitr::include_graphics('social.png')\n",
    "```"
   ]
  }
 ],
 "metadata": {
  "interpreter": {
   "hash": "31f2aee4e71d21fbe5cf8b01ff0e069b9275f58929596ceb00d14d90e3e16cd6"
  },
  "kernelspec": {
   "display_name": "Python 3.8.2 64-bit",
   "language": "python",
   "name": "python3"
  },
  "language_info": {
   "codemirror_mode": {
    "name": "ipython",
    "version": 3
   },
   "file_extension": ".py",
   "mimetype": "text/x-python",
   "name": "python",
   "nbconvert_exporter": "python",
   "pygments_lexer": "ipython3",
   "version": "3.8.2"
  },
  "orig_nbformat": 4
 },
 "nbformat": 4,
 "nbformat_minor": 2
}
